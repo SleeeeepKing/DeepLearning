{
 "cells": [
  {
   "cell_type": "code",
   "execution_count": null,
   "metadata": {
    "collapsed": true
   },
   "outputs": [],
   "source": [
    "import tensorflow as tf\n",
    "from tensorflow import keras\n",
    "import cv2"
   ]
  },
  {
   "cell_type": "code",
   "execution_count": null,
   "outputs": [],
   "source": [
    "width = 640\n",
    "height = 640\n",
    "dim = (width, height)\n",
    "amborella=[]\n",
    "castanea=[]\n",
    "convolvulaceae=[]\n",
    "desmodium=[]\n",
    "eugenia=[]\n",
    "laurus=[]\n",
    "litsea=[]\n",
    "magnolia=[]\n",
    "monimiaceae=[]\n",
    "rubus=[]\n",
    "ulmus=[]\n",
    "for i in range(81,101):\n",
    "  if (i % 100 != 0) :\n",
    "    imgAmborella = cv2.imread(\"/content/drive/MyDrive/ING3/DeepLearning/Train/amborella/amborella0\"+str(i)+\".jpg\", cv2.IMREAD_UNCHANGED)\n",
    "    imgCastanea = cv2.imread(\"/content/drive/MyDrive/ING3/DeepLearning/Train/castanea/castanea0\"+str(i)+\".jpg\", cv2.IMREAD_UNCHANGED)\n",
    "    imgConvolvulaceae = cv2.imread(\"/content/drive/MyDrive/ING3/DeepLearning/Train/convolvulaceae/convolvulaceae0\"+str(i)+\".jpg\", cv2.IMREAD_UNCHANGED)\n",
    "    imgDesmodium = cv2.imread(\"/content/drive/MyDrive/ING3/DeepLearning/Train/desmodium/desmodium0\"+str(i)+\".jpg\", cv2.IMREAD_UNCHANGED)\n",
    "    imgEugenia = cv2.imread(\"/content/drive/MyDrive/ING3/DeepLearning/Train/eugenia/eugenia0\"+str(i)+\".jpg\", cv2.IMREAD_UNCHANGED)\n",
    "    imgLaurus = cv2.imread(\"/content/drive/MyDrive/ING3/DeepLearning/Train/laurus/laurus0\"+str(i)+\".jpg\", cv2.IMREAD_UNCHANGED)\n",
    "    imgLitsea = cv2.imread(\"/content/drive/MyDrive/ING3/DeepLearning/Train/litsea/litsea0\"+str(i)+\".jpg\", cv2.IMREAD_UNCHANGED)\n",
    "    imgMagnolia = cv2.imread(\"/content/drive/MyDrive/ING3/DeepLearning/Train/magnolia/magnolia0\"+str(i)+\".jpg\", cv2.IMREAD_UNCHANGED)\n",
    "    imgMonimiaceae = cv2.imread(\"/content/drive/MyDrive/ING3/DeepLearning/Train/monimiaceae/monimiaceae0\"+str(i)+\".jpg\", cv2.IMREAD_UNCHANGED)\n",
    "    imgRubus = cv2.imread(\"/content/drive/MyDrive/ING3/DeepLearning/Train/rubus/rubus0\"+str(i)+\".jpg\", cv2.IMREAD_UNCHANGED)\n",
    "    imgUlmus = cv2.imread(\"/content/drive/MyDrive/ING3/DeepLearning/Train/ulmus/ulmus0\"+str(i)+\".jpg\", cv2.IMREAD_UNCHANGED)\n",
    "  else :\n",
    "    imgAmborella = cv2.imread(\"/content/drive/MyDrive/ING3/DeepLearning/Train/amborella/amborella\"+str(i)+\".jpg\", cv2.IMREAD_UNCHANGED)\n",
    "    imgCastanea = cv2.imread(\"/content/drive/MyDrive/ING3/DeepLearning/Train/castanea/castanea\"+str(i)+\".jpg\", cv2.IMREAD_UNCHANGED)\n",
    "    imgConvolvulaceae = cv2.imread(\"/content/drive/MyDrive/ING3/DeepLearning/Train/convolvulaceae/convolvulaceae\"+str(i)+\".jpg\", cv2.IMREAD_UNCHANGED)\n",
    "    imgDesmodium = cv2.imread(\"/content/drive/MyDrive/ING3/DeepLearning/Train/desmodium/desmodium\"+str(i)+\".jpg\", cv2.IMREAD_UNCHANGED)\n",
    "    imgEugenia = cv2.imread(\"/content/drive/MyDrive/ING3/DeepLearning/Train/eugenia/eugenia\"+str(i)+\".jpg\", cv2.IMREAD_UNCHANGED)\n",
    "    imgLaurus = cv2.imread(\"/content/drive/MyDrive/ING3/DeepLearning/Train/laurus/laurus\"+str(i)+\".jpg\", cv2.IMREAD_UNCHANGED)\n",
    "    imgLitsea = cv2.imread(\"/content/drive/MyDrive/ING3/DeepLearning/Train/litsea/litsea\"+str(i)+\".jpg\", cv2.IMREAD_UNCHANGED)\n",
    "    imgMagnolia = cv2.imread(\"/content/drive/MyDrive/ING3/DeepLearning/Train/magnolia/magnolia\"+str(i)+\".jpg\", cv2.IMREAD_UNCHANGED)\n",
    "    imgMonimiaceae = cv2.imread(\"/content/drive/MyDrive/ING3/DeepLearning/Train/monimiaceae/monimiaceae\"+str(i)+\".jpg\", cv2.IMREAD_UNCHANGED)\n",
    "    imgRubus = cv2.imread(\"/content/drive/MyDrive/ING3/DeepLearning/Train/rubus/rubus\"+str(i)+\".jpg\", cv2.IMREAD_UNCHANGED)\n",
    "    imgUlmus = cv2.imread(\"/content/drive/MyDrive/ING3/DeepLearning/Train/ulmus/ulmus\"+str(i)+\".jpg\", cv2.IMREAD_UNCHANGED)\n",
    "\n",
    "  amborella.append([cv2.resize(imgAmborella, dim, interpolation = cv2.INTER_AREA), \"amborella\"])\n",
    "  #castanea.append(cv2.resize(imgCastanea, dim, interpolation = cv2.INTER_AREA))\n",
    "  convolvulaceae.append([cv2.resize(imgConvolvulaceae, dim, interpolation = cv2.INTER_AREA), \"convolvulaceae\"])\n",
    "  desmodium.append([cv2.resize(imgDesmodium, dim, interpolation = cv2.INTER_AREA), \"desmodium\"])\n",
    "  eugenia.append([cv2.resize(imgEugenia, dim, interpolation = cv2.INTER_AREA), \"eugenia\"])\n",
    "  laurus.append([cv2.resize(imgLaurus, dim, interpolation = cv2.INTER_AREA), \"laurus\"])\n",
    "  litsea.append([cv2.resize(imgLitsea, dim, interpolation = cv2.INTER_AREA), \"litsea\"])\n",
    "  magnolia.append([cv2.resize(imgMagnolia, dim, interpolation = cv2.INTER_AREA), \"magnolia\"])\n",
    "  monimiaceae.append([cv2.resize(imgMonimiaceae, dim, interpolation = cv2.INTER_AREA), \"monimiaceae\"])\n",
    "  rubus.append([cv2.resize(imgRubus, dim, interpolation = cv2.INTER_AREA), \"rubus\"])\n",
    "  ulmus.append([cv2.resize(imgUlmus, dim, interpolation = cv2.INTER_AREA), \"ulmus\"])\n",
    "\n",
    "cv2.waitKey(0)\n",
    "cv2.destroyAllWindows()\n",
    "# Get all image array ( 640 * 640)"
   ],
   "metadata": {
    "collapsed": false
   }
  },
  {
   "cell_type": "code",
   "execution_count": null,
   "outputs": [],
   "source": [
    "# Prepare data X_train\n",
    "x_input=[]\n",
    "y_input=[]\n",
    "allFlower = amborella+convolvulaceae+desmodium+eugenia+laurus+litsea+magnolia+monimiaceae+rubus+ulmus\n",
    "for flower in allFlower:\n",
    "  x_input.append(flower[0])\n",
    "  y_input.append(flower[1])\n",
    "\n",
    "input_data = tf.data.Dataset.from_tensor_slices((x_input, y_input))\n",
    "input_data = input_data.shuffle(100)\n",
    "\n",
    "print(input_data)\n",
    "(x_train, y_train) = input_data"
   ],
   "metadata": {
    "collapsed": false
   }
  },
  {
   "cell_type": "code",
   "execution_count": null,
   "outputs": [],
   "source": [
    "# Build model\n",
    "model = keras.Sequential([\n",
    "    keras.layers.Flatten(input_shape=[640, 640, 3]),  # input layer\n",
    "    keras.layers.Dense(100, activation='relu'),  # hidden layer\n",
    "    keras.layers.Dense(2, activation='softmax')  # output layer\n",
    "])\n",
    "\n",
    "model.compile(optimizer='adam',\n",
    "              loss='sparse_categorical_crossentropy',\n",
    "              metrics=['accuracy'])\n"
   ],
   "metadata": {
    "collapsed": false
   }
  },
  {
   "cell_type": "code",
   "execution_count": null,
   "outputs": [],
   "source": [
    "# Train model\n",
    "model.fit(x_train, y_train, epochs=100)"
   ],
   "metadata": {
    "collapsed": false
   }
  },
  {
   "cell_type": "code",
   "execution_count": null,
   "outputs": [],
   "source": [
    "# Evaluate model\n",
    "# valid_loss, valid_acc = model.evaluate(x_train, y_train, verbose=1)\n",
    "# print(f\"Valid loss:{valid_loss}\")\n",
    "# print(f\"Valid accuracy:{valid_acc}\")"
   ],
   "metadata": {
    "collapsed": false
   }
  }
 ],
 "metadata": {
  "kernelspec": {
   "display_name": "Python 3",
   "language": "python",
   "name": "python3"
  },
  "language_info": {
   "codemirror_mode": {
    "name": "ipython",
    "version": 2
   },
   "file_extension": ".py",
   "mimetype": "text/x-python",
   "name": "python",
   "nbconvert_exporter": "python",
   "pygments_lexer": "ipython2",
   "version": "2.7.6"
  }
 },
 "nbformat": 4,
 "nbformat_minor": 0
}
