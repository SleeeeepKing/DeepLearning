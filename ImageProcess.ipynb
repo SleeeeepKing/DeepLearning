{
 "cells": [
  {
   "cell_type": "code",
   "execution_count": 13,
   "outputs": [],
   "source": [
    "import numpy as np\n",
    "import cv2\n",
    "import os"
   ],
   "metadata": {
    "collapsed": false
   }
  },
  {
   "cell_type": "markdown",
   "source": [
    "Obtenir tous les noms de fichiers de l'ensemble d'entraînement"
   ],
   "metadata": {
    "collapsed": false
   }
  },
  {
   "cell_type": "code",
   "execution_count": 14,
   "outputs": [],
   "source": [
    "def getFileNames(path):\n",
    "    fileNames = os.listdir(r'./resource' + path)\n",
    "    return fileNames"
   ],
   "metadata": {
    "collapsed": false
   }
  },
  {
   "cell_type": "markdown",
   "source": [
    "Stocker les images et les étiquettes dans des tableaux"
   ],
   "metadata": {
    "collapsed": false
   }
  },
  {
   "cell_type": "code",
   "execution_count": 15,
   "outputs": [],
   "source": [
    "amborellaFileNames = getFileNames('/Train/amborella')\n",
    "castaneaFileNames = getFileNames('/Train/castanea')\n",
    "convolvulaceaeFileNames = getFileNames('/Train/convolvulaceae')\n",
    "desmodiumFileNames = getFileNames('/Train/desmodium')\n",
    "eugeniaFileNames = getFileNames('/Train/eugenia')\n",
    "laurusFileNames = getFileNames('/Train/laurus')\n",
    "litseaFileNames = getFileNames('/Train/litsea')\n",
    "magnoliaFileNames = getFileNames('/Train/magnolia')\n",
    "monimiaceaeFileNames = getFileNames('/Train/monimiaceae')\n",
    "rubusFileNames = getFileNames('/Train/rubus')\n",
    "ulmusFileNames = getFileNames('/Train/ulmus')\n",
    "\n",
    "amborella = []\n",
    "castanea = []\n",
    "convolvulaceae = []\n",
    "desmodium = []\n",
    "eugenia = []\n",
    "laurus = []\n",
    "litsea = []\n",
    "magnolia = []\n",
    "monimiaceae = []\n",
    "rubus = []\n",
    "ulmus = []\n",
    "for filename in amborellaFileNames:\n",
    "    amborella.append([cv2.imread(\"./resource/Train/amborella/\" + filename), \"amborella\"])\n",
    "\n",
    "for filename in castaneaFileNames:\n",
    "    castanea.append([cv2.imread(\"./resource/Train/castanea/\" + filename), \"castanea\"])\n",
    "\n",
    "for filename in convolvulaceaeFileNames:\n",
    "    convolvulaceae.append([cv2.imread(\"./resource/Train/convolvulaceae/\" + filename), \"convolvulaceae\"])\n",
    "\n",
    "for filename in desmodiumFileNames:\n",
    "    desmodium.append([cv2.imread(\"./resource/Train/desmodium/\" + filename), \"desmodium\"])\n",
    "\n",
    "for filename in eugeniaFileNames:\n",
    "    eugenia.append([cv2.imread(\"./resource/Train/eugenia/\" + filename), \"eugenia\"])\n",
    "\n",
    "for filename in laurusFileNames:\n",
    "    laurus.append([cv2.imread(\"./resource/Train/laurus/\" + filename), \"laurus\"])\n",
    "\n",
    "for filename in litseaFileNames:\n",
    "    litsea.append([cv2.imread(\"./resource/Train/litsea/\" + filename), \"litsea\"])\n",
    "\n",
    "for filename in magnoliaFileNames:\n",
    "    magnolia.append([cv2.imread(\"./resource/Train/magnolia/\" + filename), \"magnolia\"])\n",
    "\n",
    "for filename in monimiaceaeFileNames:\n",
    "    monimiaceae.append([cv2.imread(\"./resource/Train/monimiaceae/\" + filename), \"monimiaceae\"])\n",
    "\n",
    "for filename in rubusFileNames:\n",
    "    rubus.append([cv2.imread(\"./resource/Train/rubus/\" + filename), \"rubus\"])\n",
    "\n",
    "for filename in ulmusFileNames:\n",
    "    ulmus.append([cv2.imread(\"./resource/Train/ulmus/\" + filename), \"ulmus\"])\n",
    "\n",
    "allTrainFlower = amborella + castanea + convolvulaceae + desmodium + eugenia + laurus + litsea + magnolia + monimiaceae + rubus + ulmus"
   ],
   "metadata": {
    "collapsed": false
   }
  },
  {
   "cell_type": "markdown",
   "source": [
    "Obtenir les données de l'ensemble de test"
   ],
   "metadata": {
    "collapsed": false
   }
  },
  {
   "cell_type": "code",
   "execution_count": 16,
   "outputs": [],
   "source": [
    "amborellaTestFileNames = getFileNames('/Test/amborella')\n",
    "castaneaTestFileNames = getFileNames('/Test/castanea')\n",
    "convolvulaceaeTestFileNames = getFileNames('/Test/convolvulaceae')\n",
    "desmodiumTestFileNames = getFileNames('/Test/desmodium')\n",
    "eugeniaTestFileNames = getFileNames('/Test/eugenia')\n",
    "laurusTestFileNames = getFileNames('/Test/laurus')\n",
    "litseaTestFileNames = getFileNames('/Test/litsea')\n",
    "magnoliaTestFileNames = getFileNames('/Test/magnolia')\n",
    "monimiaceaeTestFileNames = getFileNames('/Test/monimiaceae')\n",
    "rubusTestFileNames = getFileNames('/Test/rubus')\n",
    "ulmusTestFileNames = getFileNames('/Test/ulmus')\n",
    "\n",
    "amborellaTest = []\n",
    "castaneaTest = []\n",
    "convolvulaceaeTest = []\n",
    "desmodiumTest = []\n",
    "eugeniaTest = []\n",
    "laurusTest = []\n",
    "litseaTest = []\n",
    "magnoliaTest = []\n",
    "monimiaceaeTest = []\n",
    "rubusTest = []\n",
    "ulmusTest = []\n",
    "for filename in amborellaTestFileNames:\n",
    "    amborellaTest.append([cv2.imread(\"./resource/Test/amborella/\" + filename), \"amborella\"])\n",
    "\n",
    "for filename in castaneaTestFileNames:\n",
    "    castaneaTest.append([cv2.imread(\"./resource/Test/castanea/\" + filename), \"castanea\"])\n",
    "\n",
    "for filename in convolvulaceaeTestFileNames:\n",
    "    convolvulaceaeTest.append([cv2.imread(\"./resource/Test/convolvulaceae/\" + filename), \"convolvulaceae\"])\n",
    "\n",
    "for filename in desmodiumTestFileNames:\n",
    "    desmodiumTest.append([cv2.imread(\"./resource/Test/desmodium/\" + filename), \"desmodium\"])\n",
    "\n",
    "for filename in eugeniaTestFileNames:\n",
    "    eugeniaTest.append([cv2.imread(\"./resource/Test/eugenia/\" + filename), \"eugenia\"])\n",
    "\n",
    "for filename in laurusTestFileNames:\n",
    "    laurusTest.append([cv2.imread(\"./resource/Test/laurus/\" + filename), \"laurus\"])\n",
    "\n",
    "for filename in litseaTestFileNames:\n",
    "    litseaTest.append([cv2.imread(\"./resource/Test/litsea/\" + filename), \"litsea\"])\n",
    "\n",
    "for filename in magnoliaTestFileNames:\n",
    "    magnoliaTest.append([cv2.imread(\"./resource/Test/magnolia/\" + filename), \"magnolia\"])\n",
    "\n",
    "for filename in monimiaceaeTestFileNames:\n",
    "    monimiaceaeTest.append([cv2.imread(\"./resource/Test/monimiaceae/\" + filename), \"monimiaceae\"])\n",
    "\n",
    "for filename in rubusTestFileNames:\n",
    "    rubusTest.append([cv2.imread(\"./resource/Test/rubus/\" + filename), \"rubus\"])\n",
    "\n",
    "for filename in ulmusTestFileNames:\n",
    "    ulmusTest.append([cv2.imread(\"./resource/Test/ulmus/\" + filename), \"ulmus\"])\n",
    "\n",
    "allTestFlower = amborellaTest + castaneaTest + convolvulaceaeTest + desmodiumTest + eugeniaTest + laurusTest + litseaTest + magnoliaTest + monimiaceaeTest + rubusTest + ulmusTest"
   ],
   "metadata": {
    "collapsed": false
   }
  },
  {
   "cell_type": "markdown",
   "source": [
    "Traitement des images\n",
    "Convertissez d'abord l'image de BGR en HSV en utilisant openCV, puis créez un masque jaune foncé pour couvrir de noir les couleurs autres que les fleurs."
   ],
   "metadata": {
    "collapsed": false
   }
  },
  {
   "cell_type": "code",
   "execution_count": 17,
   "metadata": {
    "collapsed": true
   },
   "outputs": [],
   "source": [
    "def MASKING(img):\n",
    "    # 检测黄色的阈值\n",
    "    lower_yellow = np.array([11, 40, 0])\n",
    "    upper_yellow = np.array([30, 255, 221])\n",
    "    # change to hsv model\n",
    "    hsv = cv2.cvtColor(img, cv2.COLOR_BGR2HSV)\n",
    "    # get mask\n",
    "    mask = cv2.inRange(hsv, lower_yellow, upper_yellow)\n",
    "    # set those pixels to white\n",
    "    # detect yellow\n",
    "    out = cv2.bitwise_and(img, img, mask=mask)\n",
    "    out = np.asarray(out).astype(float)\n",
    "    return out"
   ]
  },
  {
   "cell_type": "markdown",
   "source": [
    "Obtenir le chemin où l'image sera sauvegardée après traitement"
   ],
   "metadata": {
    "collapsed": false
   }
  },
  {
   "cell_type": "code",
   "execution_count": 18,
   "outputs": [],
   "source": [
    "def TrainOutPath(type):\n",
    "    return './resource/TrainMasked/' + type + '/'\n",
    "\n",
    "\n",
    "def TestOutPath(type):\n",
    "    return './resource/TestMasked/' + type + '/'"
   ],
   "metadata": {
    "collapsed": false
   }
  },
  {
   "cell_type": "markdown",
   "source": [
    "Traitement et sauvegarde des images des ensembles de formation et de test"
   ],
   "metadata": {
    "collapsed": false
   }
  },
  {
   "cell_type": "code",
   "execution_count": 19,
   "outputs": [],
   "source": [
    "i = 1\n",
    "for img in allTrainFlower:\n",
    "    image = MASKING(img[0])\n",
    "    filePath = TrainOutPath(img[1]) + img[1] + str(i) + '.jpg'\n",
    "    cv2.imwrite(filePath, image)\n",
    "    i += 1\n",
    "\n",
    "j = 1\n",
    "for img in allTestFlower:\n",
    "    image = MASKING(img[0])\n",
    "    filePath = TestOutPath(img[1]) + img[1] + str(j) + '.jpg'\n",
    "    cv2.imwrite(filePath, image)\n",
    "    j += 1\n"
   ],
   "metadata": {
    "collapsed": false,
    "pycharm": {
     "name": "#%%f\n"
    }
   }
  },
  {
   "cell_type": "code",
   "execution_count": null,
   "outputs": [],
   "source": [],
   "metadata": {
    "collapsed": false
   }
  }
 ],
 "metadata": {
  "kernelspec": {
   "display_name": "Python 3",
   "language": "python",
   "name": "python3"
  },
  "language_info": {
   "codemirror_mode": {
    "name": "ipython",
    "version": 2
   },
   "file_extension": ".py",
   "mimetype": "text/x-python",
   "name": "python",
   "nbconvert_exporter": "python",
   "pygments_lexer": "ipython2",
   "version": "2.7.6"
  }
 },
 "nbformat": 4,
 "nbformat_minor": 0
}
