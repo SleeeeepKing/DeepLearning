{
 "cells": [
  {
   "cell_type": "code",
   "execution_count": 1,
   "outputs": [],
   "source": [
    "import numpy as np\n",
    "import cv2\n",
    "import os"
   ],
   "metadata": {
    "collapsed": false
   }
  },
  {
   "cell_type": "markdown",
   "source": [
    "Obtenir tous les noms de fichiers de l'ensemble d'entraînement"
   ],
   "metadata": {
    "collapsed": false
   }
  },
  {
   "cell_type": "code",
   "execution_count": 2,
   "outputs": [],
   "source": [
    "def getFileNames(path):\n",
    "    fileNames = os.listdir(r'./resource' + path)\n",
    "    return fileNames"
   ],
   "metadata": {
    "collapsed": false
   }
  },
  {
   "cell_type": "markdown",
   "source": [
    "Stocker les images et les étiquettes dans des tableaux"
   ],
   "metadata": {
    "collapsed": false
   }
  },
  {
   "cell_type": "code",
   "execution_count": 5,
   "outputs": [],
   "source": [
    "def readTrainFile(path):\n",
    "    amborellaFileNames = getFileNames('/'+path+'/amborella')\n",
    "    castaneaFileNames = getFileNames('/'+path+'/castanea')\n",
    "    convolvulaceaeFileNames = getFileNames('/'+path+'/convolvulaceae')\n",
    "    desmodiumFileNames = getFileNames('/'+path+'/desmodium')\n",
    "    eugeniaFileNames = getFileNames('/'+path+'/eugenia')\n",
    "    laurusFileNames = getFileNames('/'+path+'/laurus')\n",
    "    litseaFileNames = getFileNames('/'+path+'/litsea')\n",
    "    magnoliaFileNames = getFileNames('/'+path+'/magnolia')\n",
    "    monimiaceaeFileNames = getFileNames('/'+path+'/monimiaceae')\n",
    "    rubusFileNames = getFileNames('/'+path+'/rubus')\n",
    "    ulmusFileNames = getFileNames('/'+path+'/ulmus')\n",
    "\n",
    "    amborella = []\n",
    "    castanea = []\n",
    "    convolvulaceae = []\n",
    "    desmodium = []\n",
    "    eugenia = []\n",
    "    laurus = []\n",
    "    litsea = []\n",
    "    magnolia = []\n",
    "    monimiaceae = []\n",
    "    rubus = []\n",
    "    ulmus = []\n",
    "    for filename in amborellaFileNames:\n",
    "        amborella.append([cv2.imread(\"./resource/\"+path+\"/amborella/\" + filename), \"amborella\"])\n",
    "\n",
    "    for filename in castaneaFileNames:\n",
    "        castanea.append([cv2.imread(\"./resource/\"+path+\"/castanea/\" + filename), \"castanea\"])\n",
    "\n",
    "    for filename in convolvulaceaeFileNames:\n",
    "        convolvulaceae.append([cv2.imread(\"./resource/\"+path+\"/convolvulaceae/\" + filename), \"convolvulaceae\"])\n",
    "\n",
    "    for filename in desmodiumFileNames:\n",
    "        desmodium.append([cv2.imread(\"./resource/\"+path+\"/desmodium/\" + filename), \"desmodium\"])\n",
    "\n",
    "    for filename in eugeniaFileNames:\n",
    "        eugenia.append([cv2.imread(\"./resource/\"+path+\"/eugenia/\" + filename), \"eugenia\"])\n",
    "\n",
    "    for filename in laurusFileNames:\n",
    "        laurus.append([cv2.imread(\"./resource/\"+path+\"/laurus/\" + filename), \"laurus\"])\n",
    "\n",
    "    for filename in litseaFileNames:\n",
    "        litsea.append([cv2.imread(\"./resource/\"+path+\"/litsea/\" + filename), \"litsea\"])\n",
    "\n",
    "    for filename in magnoliaFileNames:\n",
    "        magnolia.append([cv2.imread(\"./resource/\"+path+\"/magnolia/\" + filename), \"magnolia\"])\n",
    "\n",
    "    for filename in monimiaceaeFileNames:\n",
    "        monimiaceae.append([cv2.imread(\"./resource/\"+path+\"/monimiaceae/\" + filename), \"monimiaceae\"])\n",
    "\n",
    "    for filename in rubusFileNames:\n",
    "        rubus.append([cv2.imread(\"./resource/\"+path+\"/rubus/\" + filename), \"rubus\"])\n",
    "\n",
    "    for filename in ulmusFileNames:\n",
    "        ulmus.append([cv2.imread(\"./resource/\"+path+\"/ulmus/\" + filename), \"ulmus\"])\n",
    "\n",
    "    allTrainFlower = amborella + castanea + convolvulaceae + desmodium + eugenia + laurus + litsea + magnolia + monimiaceae + rubus + ulmus\n",
    "    return allTrainFlower"
   ],
   "metadata": {
    "collapsed": false
   }
  },
  {
   "cell_type": "markdown",
   "source": [
    "Obtenir les données de l'ensemble de test"
   ],
   "metadata": {
    "collapsed": false
   }
  },
  {
   "cell_type": "code",
   "execution_count": 7,
   "outputs": [],
   "source": [
    "def readTestFile(path):\n",
    "    amborellaTestFileNames = getFileNames('/'+path+'/amborella')\n",
    "    castaneaTestFileNames = getFileNames('/'+path+'/castanea')\n",
    "    convolvulaceaeTestFileNames = getFileNames('/'+path+'/convolvulaceae')\n",
    "    desmodiumTestFileNames = getFileNames('/'+path+'/desmodium')\n",
    "    eugeniaTestFileNames = getFileNames('/'+path+'/eugenia')\n",
    "    laurusTestFileNames = getFileNames('/'+path+'/laurus')\n",
    "    litseaTestFileNames = getFileNames('/'+path+'/litsea')\n",
    "    magnoliaTestFileNames = getFileNames('/'+path+'/magnolia')\n",
    "    monimiaceaeTestFileNames = getFileNames('/'+path+'/monimiaceae')\n",
    "    rubusTestFileNames = getFileNames('/'+path+'/rubus')\n",
    "    ulmusTestFileNames = getFileNames('/'+path+'/ulmus')\n",
    "\n",
    "    amborellaTest = []\n",
    "    castaneaTest = []\n",
    "    convolvulaceaeTest = []\n",
    "    desmodiumTest = []\n",
    "    eugeniaTest = []\n",
    "    laurusTest = []\n",
    "    litseaTest = []\n",
    "    magnoliaTest = []\n",
    "    monimiaceaeTest = []\n",
    "    rubusTest = []\n",
    "    ulmusTest = []\n",
    "    for filename in amborellaTestFileNames:\n",
    "        amborellaTest.append([cv2.imread(\"./resource/\"+path+\"/amborella/\" + filename), \"amborella\"])\n",
    "\n",
    "    for filename in castaneaTestFileNames:\n",
    "        castaneaTest.append([cv2.imread(\"./resource/\"+path+\"/castanea/\" + filename), \"castanea\"])\n",
    "\n",
    "    for filename in convolvulaceaeTestFileNames:\n",
    "        convolvulaceaeTest.append([cv2.imread(\"./resource/\"+path+\"/convolvulaceae/\" + filename), \"convolvulaceae\"])\n",
    "\n",
    "    for filename in desmodiumTestFileNames:\n",
    "        desmodiumTest.append([cv2.imread(\"./resource/\"+path+\"/desmodium/\" + filename), \"desmodium\"])\n",
    "\n",
    "    for filename in eugeniaTestFileNames:\n",
    "        eugeniaTest.append([cv2.imread(\"./resource/\"+path+\"/eugenia/\" + filename), \"eugenia\"])\n",
    "\n",
    "    for filename in laurusTestFileNames:\n",
    "        laurusTest.append([cv2.imread(\"./resource/\"+path+\"/laurus/\" + filename), \"laurus\"])\n",
    "\n",
    "    for filename in litseaTestFileNames:\n",
    "        litseaTest.append([cv2.imread(\"./resource/\"+path+\"/litsea/\" + filename), \"litsea\"])\n",
    "\n",
    "    for filename in magnoliaTestFileNames:\n",
    "        magnoliaTest.append([cv2.imread(\"./resource/\"+path+\"/magnolia/\" + filename), \"magnolia\"])\n",
    "\n",
    "    for filename in monimiaceaeTestFileNames:\n",
    "        monimiaceaeTest.append([cv2.imread(\"./resource/\"+path+\"/monimiaceae/\" + filename), \"monimiaceae\"])\n",
    "\n",
    "    for filename in rubusTestFileNames:\n",
    "        rubusTest.append([cv2.imread(\"./resource/\"+path+\"/rubus/\" + filename), \"rubus\"])\n",
    "\n",
    "    for filename in ulmusTestFileNames:\n",
    "        ulmusTest.append([cv2.imread(\"./resource/\"+path+\"/ulmus/\" + filename), \"ulmus\"])\n",
    "\n",
    "    allTestFlower = amborellaTest + castaneaTest + convolvulaceaeTest + desmodiumTest + eugeniaTest + laurusTest + litseaTest + magnoliaTest + monimiaceaeTest + rubusTest + ulmusTest\n",
    "    return allTestFlower"
   ],
   "metadata": {
    "collapsed": false
   }
  },
  {
   "cell_type": "markdown",
   "source": [
    "Traitement des images\n",
    "Convertissez d'abord l'image de BGR en HSV en utilisant openCV, puis créez un masque jaune foncé pour couvrir de noir les couleurs autres que les fleurs."
   ],
   "metadata": {
    "collapsed": false
   }
  },
  {
   "cell_type": "code",
   "execution_count": 17,
   "metadata": {
    "collapsed": true
   },
   "outputs": [],
   "source": [
    "def MASKING(img):\n",
    "    # 检测黄色的阈值\n",
    "    lower_yellow = np.array([11, 40, 0])\n",
    "    upper_yellow = np.array([30, 255, 221])\n",
    "    # change to hsv model\n",
    "    hsv = cv2.cvtColor(img, cv2.COLOR_BGR2HSV)\n",
    "    # get mask\n",
    "    mask = cv2.inRange(hsv, lower_yellow, upper_yellow)\n",
    "    # set those pixels to white\n",
    "    # detect yellow\n",
    "    out = cv2.bitwise_and(img, img, mask=mask)\n",
    "    out = np.asarray(out).astype(float)\n",
    "    return out"
   ]
  },
  {
   "cell_type": "markdown",
   "source": [
    "Obtenir le chemin où l'image sera sauvegardée après traitement"
   ],
   "metadata": {
    "collapsed": false
   }
  },
  {
   "cell_type": "code",
   "execution_count": 18,
   "outputs": [],
   "source": [
    "def TrainOutPath(type):\n",
    "    return './resource/TrainMasked/' + type + '/'\n",
    "\n",
    "\n",
    "def TestOutPath(type):\n",
    "    return './resource/TestMasked/' + type + '/'"
   ],
   "metadata": {
    "collapsed": false
   }
  },
  {
   "cell_type": "markdown",
   "source": [
    "Traitement et sauvegarde des images des ensembles de formation et de test"
   ],
   "metadata": {
    "collapsed": false
   }
  },
  {
   "cell_type": "code",
   "execution_count": 19,
   "outputs": [],
   "source": [
    "i = 1\n",
    "for img in readTrainFile(\"TrainMasked\"):\n",
    "    image = MASKING(img[0])\n",
    "    filePath = TrainOutPath(img[1]) + img[1] + str(i) + '.jpg'\n",
    "    cv2.imwrite(filePath, image)\n",
    "    i += 1\n",
    "\n",
    "j = 1\n",
    "for img in readTestFile(\"TestMasked\"):\n",
    "    image = MASKING(img[0])\n",
    "    filePath = TestOutPath(img[1]) + img[1] + str(j) + '.jpg'\n",
    "    cv2.imwrite(filePath, image)\n",
    "    j += 1\n"
   ],
   "metadata": {
    "collapsed": false,
    "pycharm": {
     "name": "#%%f\n"
    }
   }
  },
  {
   "cell_type": "code",
   "execution_count": 10,
   "outputs": [],
   "source": [
    "def MASKINGGRAY(img):\n",
    "    # change to hsv model\n",
    "    gray = cv2.cvtColor(img, cv2.COLOR_BGR2GRAY)\n",
    "    out = np.asarray(gray).astype(float)\n",
    "    return out\n",
    "\n",
    "\n",
    "def TrainOutGrayPath(type):\n",
    "    return './resource/TrainGray/' + type + '/'\n",
    "\n",
    "\n",
    "def TestOutGrayPath(type):\n",
    "    return './resource/TestGray/' + type + '/'"
   ],
   "metadata": {
    "collapsed": false
   }
  },
  {
   "cell_type": "code",
   "execution_count": 11,
   "outputs": [
    {
     "ename": "NameError",
     "evalue": "name 'MASKING' is not defined",
     "output_type": "error",
     "traceback": [
      "\u001B[0;31m---------------------------------------------------------------------------\u001B[0m",
      "\u001B[0;31mNameError\u001B[0m                                 Traceback (most recent call last)",
      "Cell \u001B[0;32mIn [11], line 10\u001B[0m\n\u001B[1;32m      8\u001B[0m j \u001B[38;5;241m=\u001B[39m \u001B[38;5;241m1\u001B[39m\n\u001B[1;32m      9\u001B[0m \u001B[38;5;28;01mfor\u001B[39;00m img \u001B[38;5;129;01min\u001B[39;00m readTestFile(\u001B[38;5;124m\"\u001B[39m\u001B[38;5;124mTestMasked\u001B[39m\u001B[38;5;124m\"\u001B[39m):\n\u001B[0;32m---> 10\u001B[0m     image \u001B[38;5;241m=\u001B[39m \u001B[43mMASKING\u001B[49m(img[\u001B[38;5;241m0\u001B[39m])\n\u001B[1;32m     11\u001B[0m     filePath \u001B[38;5;241m=\u001B[39m TestOutGrayPath(img[\u001B[38;5;241m1\u001B[39m]) \u001B[38;5;241m+\u001B[39m img[\u001B[38;5;241m1\u001B[39m] \u001B[38;5;241m+\u001B[39m \u001B[38;5;28mstr\u001B[39m(j) \u001B[38;5;241m+\u001B[39m \u001B[38;5;124m'\u001B[39m\u001B[38;5;124m.jpg\u001B[39m\u001B[38;5;124m'\u001B[39m\n\u001B[1;32m     12\u001B[0m     cv2\u001B[38;5;241m.\u001B[39mimwrite(filePath, image)\n",
      "\u001B[0;31mNameError\u001B[0m: name 'MASKING' is not defined"
     ]
    }
   ],
   "source": [
    "i = 1\n",
    "for img in readTrainFile(\"TrainMasked\"):\n",
    "    image = MASKINGGRAY(img[0])\n",
    "    filePath = TrainOutGrayPath(img[1]) + img[1] + str(i) + '.jpg'\n",
    "    cv2.imwrite(filePath, image)\n",
    "    i += 1\n",
    "\n",
    "\n"
   ],
   "metadata": {
    "collapsed": false
   }
  },
  {
   "cell_type": "markdown",
   "source": [],
   "metadata": {
    "collapsed": false
   }
  },
  {
   "cell_type": "code",
   "execution_count": 12,
   "outputs": [],
   "source": [
    "j = 1\n",
    "for img in readTestFile(\"TestMasked\"):\n",
    "    image = MASKINGGRAY(img[0])\n",
    "    filePath = TestOutGrayPath(img[1]) + img[1] + str(j) + '.jpg'\n",
    "    cv2.imwrite(filePath, image)\n",
    "    j += 1"
   ],
   "metadata": {
    "collapsed": false
   }
  }
 ],
 "metadata": {
  "kernelspec": {
   "display_name": "Python 3",
   "language": "python",
   "name": "python3"
  },
  "language_info": {
   "codemirror_mode": {
    "name": "ipython",
    "version": 2
   },
   "file_extension": ".py",
   "mimetype": "text/x-python",
   "name": "python",
   "nbconvert_exporter": "python",
   "pygments_lexer": "ipython2",
   "version": "2.7.6"
  }
 },
 "nbformat": 4,
 "nbformat_minor": 0
}
