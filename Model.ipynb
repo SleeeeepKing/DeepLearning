{
 "cells": [
  {
   "cell_type": "code",
   "execution_count": 52,
   "outputs": [],
   "source": [
    "import cv2\n",
    "from PIL import Image\n",
    "from tqdm import tqdm\n",
    "from glob import glob\n",
    "import os\n",
    "import numpy as np\n",
    "import tensorflow as tf\n",
    "from tensorflow import keras\n",
    "from tensorflow.python.training import saver\n",
    "import matplotlib.pyplot as plt\n",
    "from keras.layers import *\n",
    "from tqdm import tqdm\n",
    "import random\n"
   ],
   "metadata": {
    "collapsed": false
   }
  },
  {
   "cell_type": "code",
   "execution_count": 53,
   "outputs": [],
   "source": [
    "def createTrain(path):\n",
    "    # test_path = \"./resource/Test/\"\n",
    "    nub_train = len(glob(path + '/*/*.jpg'))\n",
    "    #先生成空array，然后往里填每张图片的array\n",
    "    x_train = np.zeros((nub_train, 600, 360, 3), dtype=np.uint8)\n",
    "    y_train = np.zeros((nub_train,), dtype=np.uint8)\n",
    "\n",
    "    i = 0\n",
    "    for img_path in tqdm(glob(path + '/*/*.jpg')):\n",
    "        img = Image.open(img_path)\n",
    "        img = img.resize((360, 600))  #图片resize\n",
    "        arr = np.asarray(img)  #图片转array\n",
    "        x_train[i, :, :, :] = arr  #赋值\n",
    "        typeName = img_path.split('/')[-2]\n",
    "        # typeName = \"castanea\"\n",
    "        if typeName == 'amborella':\n",
    "            y_train[i] = 0\n",
    "        elif typeName == 'castanea':\n",
    "            y_train[i] = 1\n",
    "        elif typeName == 'convolvulaceae':\n",
    "            y_train[i] = 2\n",
    "        elif typeName == 'desmodium':\n",
    "            y_train[i] = 3\n",
    "        elif typeName == 'eugenia':\n",
    "            y_train[i] = 4\n",
    "        elif typeName == 'laurus':\n",
    "            y_train[i] = 5\n",
    "        elif typeName == 'litsea':\n",
    "            y_train[i] = 6\n",
    "        elif typeName == 'magnolia':\n",
    "            y_train[i] = 7\n",
    "        elif typeName == 'monimiaceae':\n",
    "            y_train[i] = 8\n",
    "        elif typeName == 'rubus':\n",
    "            y_train[i] = 9\n",
    "        elif typeName == 'ulmus':\n",
    "            y_train[i] = 10\n",
    "        i += 1\n",
    "    return x_train, y_train"
   ],
   "metadata": {
    "collapsed": false
   }
  },
  {
   "cell_type": "code",
   "execution_count": 54,
   "outputs": [
    {
     "name": "stderr",
     "output_type": "stream",
     "text": [
      "100%|██████████| 221/221 [00:49<00:00,  4.46it/s]\n"
     ]
    }
   ],
   "source": [
    "train_path = \"./resource/TrainMasked/\"\n",
    "x_train, y_train = createTrain(train_path)"
   ],
   "metadata": {
    "collapsed": false
   }
  },
  {
   "cell_type": "code",
   "execution_count": 55,
   "outputs": [],
   "source": [
    "# train_path2 = \"./resource/TrainMasked2/\"\n",
    "# x_train2, y_train2 = createTrain(train_path2)"
   ],
   "metadata": {
    "collapsed": false
   }
  },
  {
   "cell_type": "code",
   "execution_count": 56,
   "outputs": [],
   "source": [
    "# train_path3 = \"./resource/TrainMasked3/\"\n",
    "# x_train3, y_train3 = createTrain(train_path3)"
   ],
   "metadata": {
    "collapsed": false
   }
  },
  {
   "cell_type": "code",
   "execution_count": 57,
   "outputs": [],
   "source": [
    "# fig, axes = plt.subplots(4, 4, figsize=(20, 20))\n",
    "#\n",
    "# j = 0\n",
    "# for i, img in enumerate(x_train2[:16]):\n",
    "#     axes[i // 4, j % 4].imshow(img)\n",
    "#     j += 1"
   ],
   "metadata": {
    "collapsed": false
   }
  },
  {
   "cell_type": "code",
   "execution_count": 75,
   "outputs": [],
   "source": [
    "\n",
    "\n",
    "# Build model\n",
    "model = keras.Sequential()\n",
    "\n",
    "model.add(Flatten(input_shape=[600, 360, 3]))  # input layer\n",
    "model.add(Dense(32, activation='relu')),  # hidden layer\n",
    "model.add(Dense(32, activation='relu')),  # hidden layer\n",
    "model.add(Dense(11, activation='softmax'))  # output layer\n",
    "\n",
    "model.compile(optimizer=keras.optimizers.Adam(),\n",
    "              loss='sparse_categorical_crossentropy',\n",
    "              metrics=['accuracy'],\n",
    "              )\n"
   ],
   "metadata": {
    "collapsed": false
   }
  },
  {
   "cell_type": "code",
   "execution_count": 76,
   "outputs": [
    {
     "name": "stdout",
     "output_type": "stream",
     "text": [
      "Epoch 1/100\n"
     ]
    },
    {
     "name": "stderr",
     "output_type": "stream",
     "text": [
      "2022-12-04 12:35:13.127625: I tensorflow/core/grappler/optimizers/custom_graph_optimizer_registry.cc:113] Plugin optimizer for device_type GPU is enabled.\n"
     ]
    },
    {
     "name": "stdout",
     "output_type": "stream",
     "text": [
      "7/7 [==============================] - 2s 273ms/step - loss: 19870.5762 - accuracy: 0.0543\n",
      "Epoch 2/100\n",
      "7/7 [==============================] - 2s 268ms/step - loss: 11420.4492 - accuracy: 0.1267\n",
      "Epoch 3/100\n",
      "7/7 [==============================] - 2s 268ms/step - loss: 9057.5557 - accuracy: 0.1086\n",
      "Epoch 4/100\n",
      "7/7 [==============================] - 2s 267ms/step - loss: 7252.3394 - accuracy: 0.1267\n",
      "Epoch 5/100\n",
      "7/7 [==============================] - 2s 267ms/step - loss: 4669.6191 - accuracy: 0.1493\n",
      "Epoch 6/100\n",
      "7/7 [==============================] - 2s 269ms/step - loss: 3776.6899 - accuracy: 0.1493\n",
      "Epoch 7/100\n",
      "7/7 [==============================] - 2s 265ms/step - loss: 2927.8914 - accuracy: 0.1991\n",
      "Epoch 8/100\n",
      "7/7 [==============================] - 2s 267ms/step - loss: 2084.2571 - accuracy: 0.2353\n",
      "Epoch 9/100\n",
      "7/7 [==============================] - 2s 266ms/step - loss: 1769.7197 - accuracy: 0.2443\n",
      "Epoch 10/100\n",
      "7/7 [==============================] - 2s 266ms/step - loss: 1932.7227 - accuracy: 0.2398\n",
      "Epoch 11/100\n",
      "7/7 [==============================] - 2s 266ms/step - loss: 1543.7175 - accuracy: 0.2489\n",
      "Epoch 12/100\n",
      "7/7 [==============================] - 2s 266ms/step - loss: 1246.6294 - accuracy: 0.2805\n",
      "Epoch 13/100\n",
      "7/7 [==============================] - 2s 267ms/step - loss: 760.9730 - accuracy: 0.3891\n",
      "Epoch 14/100\n",
      "7/7 [==============================] - 2s 267ms/step - loss: 568.3948 - accuracy: 0.4344\n",
      "Epoch 15/100\n",
      "7/7 [==============================] - 2s 266ms/step - loss: 403.8867 - accuracy: 0.4751\n",
      "Epoch 16/100\n",
      "7/7 [==============================] - 2s 266ms/step - loss: 629.1491 - accuracy: 0.4480\n",
      "Epoch 17/100\n",
      "7/7 [==============================] - 2s 266ms/step - loss: 369.8598 - accuracy: 0.4932\n",
      "Epoch 18/100\n",
      "7/7 [==============================] - 2s 266ms/step - loss: 336.0490 - accuracy: 0.4977\n",
      "Epoch 19/100\n",
      "7/7 [==============================] - 2s 266ms/step - loss: 585.9577 - accuracy: 0.4615\n",
      "Epoch 20/100\n",
      "7/7 [==============================] - 2s 266ms/step - loss: 459.7597 - accuracy: 0.4118\n",
      "Epoch 21/100\n",
      "7/7 [==============================] - 2s 266ms/step - loss: 369.9449 - accuracy: 0.4932\n",
      "Epoch 22/100\n",
      "7/7 [==============================] - 2s 266ms/step - loss: 194.0944 - accuracy: 0.5747\n",
      "Epoch 23/100\n",
      "7/7 [==============================] - 2s 266ms/step - loss: 196.7397 - accuracy: 0.6380\n",
      "Epoch 24/100\n",
      "7/7 [==============================] - 2s 267ms/step - loss: 130.3633 - accuracy: 0.6561\n",
      "Epoch 25/100\n",
      "7/7 [==============================] - 2s 266ms/step - loss: 200.5096 - accuracy: 0.6154\n",
      "Epoch 26/100\n",
      "7/7 [==============================] - 2s 266ms/step - loss: 170.1086 - accuracy: 0.6697\n",
      "Epoch 27/100\n",
      "7/7 [==============================] - 2s 266ms/step - loss: 91.1437 - accuracy: 0.7466\n",
      "Epoch 28/100\n",
      "7/7 [==============================] - 2s 266ms/step - loss: 124.2244 - accuracy: 0.7285\n",
      "Epoch 29/100\n",
      "7/7 [==============================] - 2s 266ms/step - loss: 184.2527 - accuracy: 0.6968\n",
      "Epoch 30/100\n",
      "7/7 [==============================] - 2s 266ms/step - loss: 226.1865 - accuracy: 0.6742\n",
      "Epoch 31/100\n",
      "7/7 [==============================] - 2s 266ms/step - loss: 258.6338 - accuracy: 0.6425\n",
      "Epoch 32/100\n",
      "7/7 [==============================] - 2s 266ms/step - loss: 364.0995 - accuracy: 0.6290\n",
      "Epoch 33/100\n",
      "7/7 [==============================] - 2s 267ms/step - loss: 212.4497 - accuracy: 0.6606\n",
      "Epoch 34/100\n",
      "7/7 [==============================] - 2s 267ms/step - loss: 155.2776 - accuracy: 0.6878\n",
      "Epoch 35/100\n",
      "7/7 [==============================] - 2s 266ms/step - loss: 52.3452 - accuracy: 0.8326\n",
      "Epoch 36/100\n",
      "7/7 [==============================] - 2s 266ms/step - loss: 150.2374 - accuracy: 0.7014\n",
      "Epoch 37/100\n",
      "7/7 [==============================] - 2s 266ms/step - loss: 271.2089 - accuracy: 0.6154\n",
      "Epoch 38/100\n",
      "7/7 [==============================] - 2s 266ms/step - loss: 336.5859 - accuracy: 0.5701\n",
      "Epoch 39/100\n",
      "7/7 [==============================] - 2s 266ms/step - loss: 280.0203 - accuracy: 0.5882\n",
      "Epoch 40/100\n",
      "7/7 [==============================] - 2s 266ms/step - loss: 153.1849 - accuracy: 0.7014\n",
      "Epoch 41/100\n",
      "7/7 [==============================] - 2s 266ms/step - loss: 99.4971 - accuracy: 0.7376\n",
      "Epoch 42/100\n",
      "7/7 [==============================] - 2s 266ms/step - loss: 78.5760 - accuracy: 0.8054\n",
      "Epoch 43/100\n",
      "7/7 [==============================] - 2s 266ms/step - loss: 68.8798 - accuracy: 0.8190\n",
      "Epoch 44/100\n",
      "7/7 [==============================] - 2s 266ms/step - loss: 223.9897 - accuracy: 0.7466\n",
      "Epoch 45/100\n",
      "7/7 [==============================] - 2s 266ms/step - loss: 92.4481 - accuracy: 0.7964\n",
      "Epoch 46/100\n",
      "7/7 [==============================] - 2s 266ms/step - loss: 109.8569 - accuracy: 0.8190\n",
      "Epoch 47/100\n",
      "7/7 [==============================] - 2s 267ms/step - loss: 59.5625 - accuracy: 0.8778\n",
      "Epoch 48/100\n",
      "7/7 [==============================] - 2s 266ms/step - loss: 92.3408 - accuracy: 0.8778\n",
      "Epoch 49/100\n",
      "7/7 [==============================] - 2s 266ms/step - loss: 77.5258 - accuracy: 0.8643\n",
      "Epoch 50/100\n",
      "7/7 [==============================] - 2s 266ms/step - loss: 68.8161 - accuracy: 0.8688\n",
      "Epoch 51/100\n",
      "7/7 [==============================] - 2s 267ms/step - loss: 57.1997 - accuracy: 0.8959\n",
      "Epoch 52/100\n",
      "7/7 [==============================] - 2s 267ms/step - loss: 229.7945 - accuracy: 0.7738\n",
      "Epoch 53/100\n",
      "7/7 [==============================] - 2s 267ms/step - loss: 110.9700 - accuracy: 0.7330\n",
      "Epoch 54/100\n",
      "7/7 [==============================] - 2s 267ms/step - loss: 164.5806 - accuracy: 0.7240\n",
      "Epoch 55/100\n",
      "7/7 [==============================] - 2s 266ms/step - loss: 86.8255 - accuracy: 0.7602\n",
      "Epoch 56/100\n",
      "7/7 [==============================] - 2s 266ms/step - loss: 210.6538 - accuracy: 0.7104\n",
      "Epoch 57/100\n",
      "7/7 [==============================] - 2s 266ms/step - loss: 310.7504 - accuracy: 0.6154\n",
      "Epoch 58/100\n",
      "7/7 [==============================] - 2s 266ms/step - loss: 362.5030 - accuracy: 0.6199\n",
      "Epoch 59/100\n",
      "7/7 [==============================] - 2s 266ms/step - loss: 686.3565 - accuracy: 0.5204\n",
      "Epoch 60/100\n",
      "7/7 [==============================] - 2s 266ms/step - loss: 465.7033 - accuracy: 0.5249\n",
      "Epoch 61/100\n",
      "7/7 [==============================] - 2s 267ms/step - loss: 197.7707 - accuracy: 0.6833\n",
      "Epoch 62/100\n",
      "7/7 [==============================] - 2s 267ms/step - loss: 195.0241 - accuracy: 0.7195\n",
      "Epoch 63/100\n",
      "7/7 [==============================] - 2s 267ms/step - loss: 160.2353 - accuracy: 0.7602\n",
      "Epoch 64/100\n",
      "7/7 [==============================] - 2s 266ms/step - loss: 191.9297 - accuracy: 0.7602\n",
      "Epoch 65/100\n",
      "7/7 [==============================] - 2s 266ms/step - loss: 87.6273 - accuracy: 0.8688\n",
      "Epoch 66/100\n",
      "7/7 [==============================] - 2s 267ms/step - loss: 61.2257 - accuracy: 0.8914\n",
      "Epoch 67/100\n",
      "7/7 [==============================] - 2s 267ms/step - loss: 59.7358 - accuracy: 0.8869\n",
      "Epoch 68/100\n",
      "7/7 [==============================] - 2s 267ms/step - loss: 60.5283 - accuracy: 0.8959\n",
      "Epoch 69/100\n",
      "7/7 [==============================] - 2s 266ms/step - loss: 115.0227 - accuracy: 0.8462\n",
      "Epoch 70/100\n",
      "7/7 [==============================] - 2s 268ms/step - loss: 68.8955 - accuracy: 0.8643\n",
      "Epoch 71/100\n",
      "7/7 [==============================] - 2s 266ms/step - loss: 59.2195 - accuracy: 0.8597\n",
      "Epoch 72/100\n",
      "7/7 [==============================] - 2s 267ms/step - loss: 81.5277 - accuracy: 0.9005\n",
      "Epoch 73/100\n",
      "7/7 [==============================] - 2s 267ms/step - loss: 172.7637 - accuracy: 0.8054\n",
      "Epoch 74/100\n",
      "7/7 [==============================] - 2s 266ms/step - loss: 213.5949 - accuracy: 0.7828\n",
      "Epoch 75/100\n",
      "7/7 [==============================] - 2s 266ms/step - loss: 193.9296 - accuracy: 0.6968\n",
      "Epoch 76/100\n",
      "7/7 [==============================] - 2s 266ms/step - loss: 185.7380 - accuracy: 0.7104\n",
      "Epoch 77/100\n",
      "7/7 [==============================] - 2s 266ms/step - loss: 265.9985 - accuracy: 0.7376\n",
      "Epoch 78/100\n",
      "7/7 [==============================] - 2s 267ms/step - loss: 151.0888 - accuracy: 0.7738\n",
      "Epoch 79/100\n",
      "7/7 [==============================] - 2s 267ms/step - loss: 291.8096 - accuracy: 0.6109\n",
      "Epoch 80/100\n",
      "7/7 [==============================] - 2s 267ms/step - loss: 250.2453 - accuracy: 0.7466\n",
      "Epoch 81/100\n",
      "7/7 [==============================] - 2s 266ms/step - loss: 213.7543 - accuracy: 0.7738\n",
      "Epoch 82/100\n",
      "7/7 [==============================] - 2s 268ms/step - loss: 176.7548 - accuracy: 0.7240\n",
      "Epoch 83/100\n",
      "7/7 [==============================] - 2s 266ms/step - loss: 239.1712 - accuracy: 0.7557\n",
      "Epoch 84/100\n",
      "7/7 [==============================] - 2s 267ms/step - loss: 535.5457 - accuracy: 0.5792\n",
      "Epoch 85/100\n",
      "7/7 [==============================] - 2s 267ms/step - loss: 1245.4232 - accuracy: 0.3937\n",
      "Epoch 86/100\n",
      "7/7 [==============================] - 2s 267ms/step - loss: 1145.7190 - accuracy: 0.4163\n",
      "Epoch 87/100\n",
      "7/7 [==============================] - 2s 266ms/step - loss: 1457.4026 - accuracy: 0.3348\n",
      "Epoch 88/100\n",
      "7/7 [==============================] - 2s 267ms/step - loss: 581.2202 - accuracy: 0.5339\n",
      "Epoch 89/100\n",
      "7/7 [==============================] - 2s 267ms/step - loss: 794.9247 - accuracy: 0.4977\n",
      "Epoch 90/100\n",
      "7/7 [==============================] - 2s 267ms/step - loss: 748.7381 - accuracy: 0.4842\n",
      "Epoch 91/100\n",
      "7/7 [==============================] - 2s 267ms/step - loss: 267.8635 - accuracy: 0.6561\n",
      "Epoch 92/100\n",
      "7/7 [==============================] - 2s 266ms/step - loss: 359.8948 - accuracy: 0.5068\n",
      "Epoch 93/100\n",
      "7/7 [==============================] - 2s 267ms/step - loss: 283.4786 - accuracy: 0.6742\n",
      "Epoch 94/100\n",
      "7/7 [==============================] - 2s 267ms/step - loss: 164.0815 - accuracy: 0.6968\n",
      "Epoch 95/100\n",
      "7/7 [==============================] - 2s 267ms/step - loss: 99.6428 - accuracy: 0.7919\n",
      "Epoch 96/100\n",
      "7/7 [==============================] - 2s 267ms/step - loss: 241.6624 - accuracy: 0.6742\n",
      "Epoch 97/100\n",
      "7/7 [==============================] - 2s 266ms/step - loss: 304.1767 - accuracy: 0.6606\n",
      "Epoch 98/100\n",
      "7/7 [==============================] - 2s 266ms/step - loss: 258.2275 - accuracy: 0.6516\n",
      "Epoch 99/100\n",
      "7/7 [==============================] - 2s 266ms/step - loss: 157.5325 - accuracy: 0.7376\n",
      "Epoch 100/100\n",
      "7/7 [==============================] - 2s 267ms/step - loss: 161.8005 - accuracy: 0.7466\n"
     ]
    },
    {
     "data": {
      "text/plain": "<keras.callbacks.History at 0x2fe20f6d0>"
     },
     "execution_count": 76,
     "metadata": {},
     "output_type": "execute_result"
    }
   ],
   "source": [
    "# Train model\n",
    "model.fit(x_train, y_train, epochs=100, shuffle=True)"
   ],
   "metadata": {
    "collapsed": false
   }
  },
  {
   "cell_type": "code",
   "execution_count": 60,
   "outputs": [],
   "source": [
    "def createTest(path):\n",
    "    # test_path = \"./resource/Test/\"\n",
    "    nub_test = len(glob(path + '/*/*.jpg'))\n",
    "    #先生成空array，然后往里填每张图片的array\n",
    "    x_test = np.zeros((nub_test, 600, 360, 3), dtype=np.uint8)\n",
    "    y_test = np.zeros((nub_test,), dtype=np.uint8)\n",
    "\n",
    "    j = 0\n",
    "    for img_path in tqdm(glob(path + '/*/*.jpg')):\n",
    "        img = Image.open(img_path)\n",
    "        img = img.resize((360, 600))  #图片resize\n",
    "        arr = np.asarray(img)  #图片转array\n",
    "        x_test[j, :, :, :] = arr  #赋值\n",
    "        typeName = img_path.split('/')[-2]\n",
    "        # typeName = \"castanea\"\n",
    "        if typeName == 'amborella':\n",
    "            y_test[j] = 0\n",
    "        elif typeName == 'castanea':\n",
    "            y_test[j] = 1\n",
    "        elif typeName == 'convolvulaceae':\n",
    "            y_test[j] = 2\n",
    "        elif typeName == 'desmodium':\n",
    "            y_test[j] = 3\n",
    "        elif typeName == 'eugenia':\n",
    "            y_test[j] = 4\n",
    "        elif typeName == 'laurus':\n",
    "            y_test[j] = 5\n",
    "        elif typeName == 'litsea':\n",
    "            y_test[j] = 6\n",
    "        elif typeName == 'magnolia':\n",
    "            y_test[j] = 7\n",
    "        elif typeName == 'monimiaceae':\n",
    "            y_test[j] = 8\n",
    "        elif typeName == 'rubus':\n",
    "            y_test[j] = 9\n",
    "        elif typeName == 'ulmus':\n",
    "            y_test[j] = 10\n",
    "        j += 1\n",
    "    return x_test, y_test"
   ],
   "metadata": {
    "collapsed": false
   }
  },
  {
   "cell_type": "code",
   "execution_count": 61,
   "outputs": [
    {
     "name": "stderr",
     "output_type": "stream",
     "text": [
      "100%|██████████| 112/112 [00:25<00:00,  4.45it/s]\n"
     ]
    }
   ],
   "source": [
    "x_test, y_test = createTest(\"./resource/TestMasked/\")"
   ],
   "metadata": {
    "collapsed": false
   }
  },
  {
   "cell_type": "code",
   "execution_count": 62,
   "outputs": [],
   "source": [
    "# x_test2, y_test2 = createTest(\"./resource/TestMasked2/\")"
   ],
   "metadata": {
    "collapsed": false
   }
  },
  {
   "cell_type": "code",
   "execution_count": 63,
   "outputs": [],
   "source": [
    "# x_test3, y_test3 = createTest(\"./resource/TestMasked3/\")"
   ],
   "metadata": {
    "collapsed": false
   }
  },
  {
   "cell_type": "code",
   "execution_count": 78,
   "outputs": [
    {
     "name": "stderr",
     "output_type": "stream",
     "text": [
      "2022-12-04 12:39:03.967220: I tensorflow/core/grappler/optimizers/custom_graph_optimizer_registry.cc:113] Plugin optimizer for device_type GPU is enabled.\n"
     ]
    },
    {
     "name": "stdout",
     "output_type": "stream",
     "text": [
      "4/4 [==============================] - 1s 238ms/step - loss: 3151.5364 - accuracy: 0.1964\n",
      "Valid loss:3151.536376953125\n",
      "Valid accuracy:0.196428582072258\n"
     ]
    }
   ],
   "source": [
    "# Evaluate model\n",
    "valid_loss, valid_acc = model.evaluate(x_test, y_test, verbose=1)\n",
    "print(f\"Valid loss:{valid_loss}\")\n",
    "print(f\"Valid accuracy:{valid_acc}\")"
   ],
   "metadata": {
    "collapsed": false
   }
  },
  {
   "cell_type": "code",
   "execution_count": 77,
   "outputs": [
    {
     "name": "stdout",
     "output_type": "stream",
     "text": [
      "INFO:tensorflow:Assets written to: saved_model/assets\n"
     ]
    }
   ],
   "source": [
    "# 模型保存，注意：仅仅是多了一个save_format的参数而已\n",
    "# 注意：这里的'path_to_saved_model'不再是模型名称，仅仅是一个文件夹，模型会保存在这个文件夹之下\n",
    "model.save('saved_model', save_format='tf')"
   ],
   "metadata": {
    "collapsed": false
   }
  },
  {
   "cell_type": "code",
   "execution_count": 66,
   "outputs": [],
   "source": [
    "# 加载模型，通过指定存放模型的文件夹来加载\n",
    "# model = keras.models.load_model('saved_model')"
   ],
   "metadata": {
    "collapsed": false
   }
  },
  {
   "cell_type": "code",
   "execution_count": 67,
   "outputs": [
    {
     "name": "stdout",
     "output_type": "stream",
     "text": [
      "Model: \"sequential_10\"\n",
      "_________________________________________________________________\n",
      " Layer (type)                Output Shape              Param #   \n",
      "=================================================================\n",
      " flatten_10 (Flatten)        (None, 648000)            0         \n",
      "                                                                 \n",
      " dense_24 (Dense)            (None, 32)                20736032  \n",
      "                                                                 \n",
      " dense_25 (Dense)            (None, 32)                1056      \n",
      "                                                                 \n",
      " dense_26 (Dense)            (None, 11)                363       \n",
      "                                                                 \n",
      "=================================================================\n",
      "Total params: 20,737,451\n",
      "Trainable params: 20,737,451\n",
      "Non-trainable params: 0\n",
      "_________________________________________________________________\n"
     ]
    }
   ],
   "source": [
    "# 看到模型的结构\n",
    "model.summary()"
   ],
   "metadata": {
    "collapsed": false
   }
  },
  {
   "cell_type": "code",
   "execution_count": 68,
   "outputs": [
    {
     "name": "stdout",
     "output_type": "stream",
     "text": [
      "[ 3  3  3  3  3  3  3  3  5  5  5  5  5  5  5  5  5  5  8  8  8  8  8  8\n",
      "  8  8  1  1  1  1  1  1  1  1  1  1  2  2  2  2  2  2  2  2  2  2  2  2\n",
      "  2  2  2  2  2  2  2  4  4  4  4  4  4  4  4  4  4  9  9  9  9  9  9  9\n",
      "  9  9  9 10 10 10 10 10 10 10 10 10 10  0  0  0  0  0  0  0  0  0  6  6\n",
      "  6  6  6  6  6  6  6  7  7  7  7  7  7  7  7  7]\n"
     ]
    }
   ],
   "source": [
    "print(y_test)"
   ],
   "metadata": {
    "collapsed": false
   }
  },
  {
   "cell_type": "code",
   "execution_count": 69,
   "outputs": [
    {
     "name": "stdout",
     "output_type": "stream",
     "text": [
      "(112, 600, 360, 3)\n"
     ]
    }
   ],
   "source": [
    "print(x_test.shape)"
   ],
   "metadata": {
    "collapsed": false
   }
  },
  {
   "cell_type": "code",
   "execution_count": 79,
   "outputs": [
    {
     "name": "stdout",
     "output_type": "stream",
     "text": [
      "1/4 [======>.......................] - ETA: 0s"
     ]
    },
    {
     "name": "stderr",
     "output_type": "stream",
     "text": [
      "2022-12-04 12:40:25.862169: I tensorflow/core/grappler/optimizers/custom_graph_optimizer_registry.cc:113] Plugin optimizer for device_type GPU is enabled.\n"
     ]
    },
    {
     "name": "stdout",
     "output_type": "stream",
     "text": [
      "4/4 [==============================] - 1s 254ms/step\n",
      "Number  0  is:  ulmus\n",
      "Number  1  is:  litsea\n",
      "Number  2  is:  desmodium\n",
      "Number  3  is:  litsea\n",
      "Number  4  is:  litsea\n",
      "Number  5  is:  litsea\n",
      "Number  6  is:  rubus\n",
      "Number  7  is:  litsea\n",
      "Number  8  is:  litsea\n",
      "Number  9  is:  laurus\n",
      "Number  10  is:  litsea\n",
      "Number  11  is:  desmodium\n",
      "Number  12  is:  amborella\n",
      "Number  13  is:  litsea\n",
      "Number  14  is:  laurus\n",
      "Number  15  is:  litsea\n",
      "Number  16  is:  litsea\n",
      "Number  17  is:  litsea\n",
      "Number  18  is:  litsea\n",
      "Number  19  is:  litsea\n",
      "Number  20  is:  desmodium\n",
      "Number  21  is:  litsea\n",
      "Number  22  is:  litsea\n",
      "Number  23  is:  eugenia\n",
      "Number  24  is:  litsea\n",
      "Number  25  is:  litsea\n",
      "Number  26  is:  convolvulaceae\n",
      "Number  27  is:  convolvulaceae\n",
      "Number  28  is:  convolvulaceae\n"
     ]
    }
   ],
   "source": [
    "# Make one prediction\n",
    "# x_test,y_test = createTest(\"./resource/TestMasked/\")\n",
    "# print(y_test)\n",
    "class_names = ['amborella', 'castanea', 'convolvulaceae', 'desmodium', 'eugenia', 'laurus', 'litsea', 'magnolia',\n",
    "               'monimiaceae', 'rubus', 'ulmus']\n",
    "# class_names = ['amborella', 'castanea', 'eugenia']\n",
    "y_predicts = model.predict(x_test)\n",
    "\n",
    "for i in range(0, 29):\n",
    "    y_index = np.argmax(y_predicts[i])\n",
    "    y_label = class_names[y_index]\n",
    "    print(\"Number \", i, \" is: \", y_label)"
   ],
   "metadata": {
    "collapsed": false
   }
  }
 ],
 "metadata": {
  "kernelspec": {
   "display_name": "Python 3",
   "language": "python",
   "name": "python3"
  },
  "language_info": {
   "codemirror_mode": {
    "name": "ipython",
    "version": 2
   },
   "file_extension": ".py",
   "mimetype": "text/x-python",
   "name": "python",
   "nbconvert_exporter": "python",
   "pygments_lexer": "ipython2",
   "version": "2.7.6"
  }
 },
 "nbformat": 4,
 "nbformat_minor": 0
}
