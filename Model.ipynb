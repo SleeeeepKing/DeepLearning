{
 "cells": [
  {
   "cell_type": "code",
   "execution_count": 2,
   "outputs": [],
   "source": [
    "import cv2\n",
    "from PIL import Image\n",
    "from glob import glob\n",
    "import numpy as np\n",
    "import tensorflow as tf\n",
    "from tensorflow import keras\n",
    "from tensorflow.python.training import saver\n",
    "import matplotlib.pyplot as plt\n",
    "from keras.layers import *\n",
    "from tqdm import tqdm"
   ],
   "metadata": {
    "collapsed": false
   }
  },
  {
   "cell_type": "markdown",
   "source": [
    "Créer des fonctions d'ensemble de formation"
   ],
   "metadata": {
    "collapsed": false
   }
  },
  {
   "cell_type": "code",
   "execution_count": 5,
   "outputs": [],
   "source": [
    "def createTrain(path):\n",
    "    # test_path = \"./resource/Test/\"\n",
    "    nub_train = len(glob(path + '/*/*.jpg'))\n",
    "    #先生成空array，然后往里填每张图片的array\n",
    "    x_train = np.zeros((nub_train, 600, 360, 1), dtype=np.uint8)\n",
    "    y_train = np.zeros((nub_train,), dtype=np.uint8)\n",
    "\n",
    "    i = 0\n",
    "    for img_path in tqdm(glob(path + '/*/*.jpg')):\n",
    "        img = Image.open(img_path)\n",
    "        img = img.resize((360, 600))  #图片resize\n",
    "        arr = np.asarray(img)  #图片转array\n",
    "        x_train[i, :, :, :] = arr  #赋值\n",
    "        typeName = img_path.split('/')[-2]\n",
    "        # typeName = \"castanea\"\n",
    "        if typeName == 'amborella':\n",
    "            y_train[i] = 0\n",
    "        elif typeName == 'castanea':\n",
    "            y_train[i] = 1\n",
    "        elif typeName == 'convolvulaceae':\n",
    "            y_train[i] = 2\n",
    "        elif typeName == 'desmodium':\n",
    "            y_train[i] = 3\n",
    "        elif typeName == 'eugenia':\n",
    "            y_train[i] = 4\n",
    "        elif typeName == 'laurus':\n",
    "            y_train[i] = 5\n",
    "        elif typeName == 'litsea':\n",
    "            y_train[i] = 6\n",
    "        elif typeName == 'magnolia':\n",
    "            y_train[i] = 7\n",
    "        elif typeName == 'monimiaceae':\n",
    "            y_train[i] = 8\n",
    "        elif typeName == 'rubus':\n",
    "            y_train[i] = 9\n",
    "        elif typeName == 'ulmus':\n",
    "            y_train[i] = 10\n",
    "        i += 1\n",
    "    return x_train, y_train"
   ],
   "metadata": {
    "collapsed": false
   }
  },
  {
   "cell_type": "code",
   "execution_count": 29,
   "outputs": [],
   "source": [
    "def createGrayTrain(path):\n",
    "    x_train = []\n",
    "    y_train = []\n",
    "\n",
    "    i = 0\n",
    "    for img_path in tqdm(glob(path + '/*/*.jpg')):\n",
    "        img = cv2.imread(img_path)\n",
    "        resized = cv2.resize(img, (300, 300), interpolation=cv2.INTER_AREA)\n",
    "        gray = cv2.cvtColor(resized, cv2.COLOR_BGR2GRAY)\n",
    "        # img = gray.resize((360, 600))  #图片resize\n",
    "\n",
    "        x_train.append(gray)\n",
    "        typeName = img_path.split('/')[-2]\n",
    "        # typeName = \"castanea\"\n",
    "        if typeName == 'amborella':\n",
    "            y_train.append(0)\n",
    "        elif typeName == 'castanea':\n",
    "            y_train.append(1)\n",
    "        elif typeName == 'convolvulaceae':\n",
    "            y_train.append(2)\n",
    "        elif typeName == 'desmodium':\n",
    "            y_train.append(3)\n",
    "        elif typeName == 'eugenia':\n",
    "            y_train.append(4)\n",
    "        elif typeName == 'laurus':\n",
    "            y_train.append(5)\n",
    "        elif typeName == 'litsea':\n",
    "            y_train.append(6)\n",
    "        elif typeName == 'magnolia':\n",
    "            y_train.append(7)\n",
    "        elif typeName == 'monimiaceae':\n",
    "            y_train.append(8)\n",
    "        elif typeName == 'rubus':\n",
    "            y_train.append(9)\n",
    "        elif typeName == 'ulmus':\n",
    "            y_train.append(10)\n",
    "        i += 1\n",
    "    return x_train, y_train"
   ],
   "metadata": {
    "collapsed": false
   }
  },
  {
   "cell_type": "code",
   "execution_count": 6,
   "outputs": [],
   "source": [],
   "metadata": {
    "collapsed": false
   }
  },
  {
   "cell_type": "markdown",
   "source": [
    "Création d'un ensemble d'entraînement"
   ],
   "metadata": {
    "collapsed": false
   }
  },
  {
   "cell_type": "code",
   "execution_count": 30,
   "outputs": [
    {
     "name": "stderr",
     "output_type": "stream",
     "text": [
      "100%|██████████| 221/221 [00:32<00:00,  6.78it/s]\n"
     ]
    }
   ],
   "source": [
    "train_path = \"./resource/TrainGray/\"\n",
    "x_train, y_train = createGrayTrain(train_path)"
   ],
   "metadata": {
    "collapsed": false
   }
  },
  {
   "cell_type": "code",
   "execution_count": 38,
   "outputs": [
    {
     "name": "stderr",
     "output_type": "stream",
     "text": [
      "100%|██████████| 112/112 [00:17<00:00,  6.41it/s]\n"
     ]
    }
   ],
   "source": [
    "test_path = \"./resource/TestGray/\"\n",
    "x_test, y_test = createGrayTrain(test_path)"
   ],
   "metadata": {
    "collapsed": false
   }
  },
  {
   "cell_type": "code",
   "execution_count": 31,
   "outputs": [],
   "source": [
    "x_train = tf.cast(x_train, dtype=tf.float32)\n",
    "x_train = tf.convert_to_tensor(x_train, dtype=tf.float32) / 255\n",
    "y_train = tf.convert_to_tensor(y_train, dtype=tf.int32)\n",
    "y_train = tf.one_hot(y_train, depth=11)"
   ],
   "metadata": {
    "collapsed": false
   }
  },
  {
   "cell_type": "code",
   "execution_count": 39,
   "outputs": [],
   "source": [
    "x_test = tf.cast(x_test, dtype=tf.float32)\n",
    "\n",
    "x_test = tf.convert_to_tensor(x_test, dtype=tf.float32) / 255\n",
    "\n",
    "y_test = tf.convert_to_tensor(y_test, dtype=tf.int32)\n",
    "\n",
    "y_test = tf.one_hot(y_test, depth=11)\n"
   ],
   "metadata": {
    "collapsed": false
   }
  },
  {
   "cell_type": "markdown",
   "source": [
    "Montrez 16 images de l'ensemble d'entraînement et assurez-vous que les données d'entrée sont correctes."
   ],
   "metadata": {
    "collapsed": false
   }
  },
  {
   "cell_type": "markdown",
   "source": [
    "Construire le modèle, qui est séquentiel, avec une couche d'entrée, deux couches cachées et une couche de sortie, en utilisant l'optimiseur Adam."
   ],
   "metadata": {
    "collapsed": false
   }
  },
  {
   "cell_type": "code",
   "execution_count": 48,
   "outputs": [],
   "source": [
    "# Build model\n",
    "model = keras.Sequential()\n",
    "\n",
    "# 添加卷积层\n",
    "model.add(Conv2D(16, kernel_size=[16, 16], padding=\"valid\", activation=tf.nn.relu)),\n",
    "model.add(MaxPool2D(pool_size=[16, 16], strides=1, padding='valid')),\n",
    "model.add(Conv2D(16, kernel_size=[16, 16], padding=\"valid\", activation=tf.nn.relu)),\n",
    "# 池化核，填充\n",
    "model.add(MaxPool2D(pool_size=[16, 16], strides=1, padding='valid')),\n",
    "# model.add(Conv2D(16, kernel_size=[16, 16], padding=\"valid\", activation=tf.nn.relu)),\n",
    "# # 池化核，填充\n",
    "# model.add(MaxPool2D(pool_size=[16, 16], strides=1, padding='valid')),\n",
    "# model.add(Conv2D(16, kernel_size=[16, 16], padding=\"valid\", activation=tf.nn.relu)),\n",
    "# # 池化核，填充\n",
    "# model.add(MaxPool2D(pool_size=[16, 16], strides=1, padding='valid')),\n",
    "\n",
    "model.add(Dropout(0.4)),\n",
    "model.add(Flatten(input_shape=[300, 300, 1]))\n",
    "model.add(Dense(64, activation='relu')),  # hidden layer\n",
    "model.add(Dense(11, activation='softmax'))  # output layer\n",
    "\n",
    "model.build(input_shape=[None, 300, 300, 1])\n",
    "model.compile(optimizer=keras.optimizers.Adam(learning_rate=0.2),\n",
    "              loss=tf.losses.CategoricalCrossentropy(from_logits=True),\n",
    "              metrics=['accuracy'],\n",
    "              )\n"
   ],
   "metadata": {
    "collapsed": false
   }
  },
  {
   "cell_type": "markdown",
   "source": [
    "Commencez à former le modèle"
   ],
   "metadata": {
    "collapsed": false
   }
  },
  {
   "cell_type": "code",
   "execution_count": 49,
   "outputs": [
    {
     "name": "stdout",
     "output_type": "stream",
     "text": [
      "Model: \"sequential_9\"\n",
      "_________________________________________________________________\n",
      " Layer (type)                Output Shape              Param #   \n",
      "=================================================================\n",
      " conv2d_17 (Conv2D)          (None, 285, 285, 16)      4112      \n",
      "                                                                 \n",
      " max_pooling2d_17 (MaxPoolin  (None, 270, 270, 16)     0         \n",
      " g2D)                                                            \n",
      "                                                                 \n",
      " conv2d_18 (Conv2D)          (None, 255, 255, 16)      65552     \n",
      "                                                                 \n",
      " max_pooling2d_18 (MaxPoolin  (None, 240, 240, 16)     0         \n",
      " g2D)                                                            \n",
      "                                                                 \n",
      " dropout_8 (Dropout)         (None, 240, 240, 16)      0         \n",
      "                                                                 \n",
      " flatten_9 (Flatten)         (None, 921600)            0         \n",
      "                                                                 \n",
      " dense_18 (Dense)            (None, 64)                58982464  \n",
      "                                                                 \n",
      " dense_19 (Dense)            (None, 11)                715       \n",
      "                                                                 \n",
      "=================================================================\n",
      "Total params: 59,052,843\n",
      "Trainable params: 59,052,843\n",
      "Non-trainable params: 0\n",
      "_________________________________________________________________\n"
     ]
    }
   ],
   "source": [
    "model.summary()"
   ],
   "metadata": {
    "collapsed": false
   }
  },
  {
   "cell_type": "code",
   "execution_count": null,
   "outputs": [
    {
     "name": "stdout",
     "output_type": "stream",
     "text": [
      "Epoch 1/20\n"
     ]
    },
    {
     "name": "stderr",
     "output_type": "stream",
     "text": [
      "/opt/homebrew/Caskroom/miniforge/base/envs/tf26/lib/python3.10/site-packages/tensorflow/python/util/dispatch.py:1082: UserWarning: \"`categorical_crossentropy` received `from_logits=True`, but the `output` argument was produced by a sigmoid or softmax activation and thus does not represent logits. Was this intended?\"\n",
      "  return dispatch_target(*args, **kwargs)\n",
      "2022-12-05 21:54:14.267797: I tensorflow/core/grappler/optimizers/custom_graph_optimizer_registry.cc:113] Plugin optimizer for device_type GPU is enabled.\n"
     ]
    },
    {
     "name": "stdout",
     "output_type": "stream",
     "text": [
      "19/19 [==============================] - 31s 2s/step - loss: 40384028.0000 - accuracy: 0.0769\n",
      "Epoch 2/20\n",
      "19/19 [==============================] - 30s 2s/step - loss: 2.4204 - accuracy: 0.1357\n",
      "Epoch 3/20\n",
      "19/19 [==============================] - 30s 2s/step - loss: 2.3736 - accuracy: 0.2081\n",
      "Epoch 4/20\n",
      "19/19 [==============================] - 30s 2s/step - loss: 2.3700 - accuracy: 0.2081\n",
      "Epoch 5/20\n",
      "19/19 [==============================] - 30s 2s/step - loss: 2.3771 - accuracy: 0.2081\n",
      "Epoch 6/20\n",
      "19/19 [==============================] - 30s 2s/step - loss: 2.3734 - accuracy: 0.2081\n",
      "Epoch 7/20\n",
      "19/19 [==============================] - 31s 2s/step - loss: 2.3786 - accuracy: 0.2081\n",
      "Epoch 8/20\n",
      "19/19 [==============================] - 30s 2s/step - loss: 2.3746 - accuracy: 0.2081\n",
      "Epoch 9/20\n",
      "19/19 [==============================] - 30s 2s/step - loss: 2.3751 - accuracy: 0.2081\n",
      "Epoch 10/20\n",
      "19/19 [==============================] - 30s 2s/step - loss: 2.3717 - accuracy: 0.2081\n",
      "Epoch 11/20\n",
      "19/19 [==============================] - 30s 2s/step - loss: 2.3772 - accuracy: 0.2081\n",
      "Epoch 12/20\n",
      "19/19 [==============================] - 31s 2s/step - loss: 2.3701 - accuracy: 0.2081\n",
      "Epoch 13/20\n",
      "19/19 [==============================] - 32s 2s/step - loss: 2.3857 - accuracy: 0.2081\n",
      "Epoch 14/20\n",
      "19/19 [==============================] - 34s 2s/step - loss: 2.3736 - accuracy: 0.2081\n",
      "Epoch 15/20\n",
      "19/19 [==============================] - 37s 2s/step - loss: 2.3715 - accuracy: 0.2081\n",
      "Epoch 16/20\n",
      "19/19 [==============================] - 37s 2s/step - loss: 2.3694 - accuracy: 0.2081\n",
      "Epoch 17/20\n",
      "19/19 [==============================] - 37s 2s/step - loss: 2.3824 - accuracy: 0.2081\n",
      "Epoch 18/20\n",
      "19/19 [==============================] - 35s 2s/step - loss: 2.3859 - accuracy: 0.2081\n",
      "Epoch 19/20\n",
      "19/19 [==============================] - 36s 2s/step - loss: 2.3681 - accuracy: 0.2081\n",
      "Epoch 20/20\n",
      "13/19 [===================>..........] - ETA: 11s - loss: 2.3735 - accuracy: 0.2115"
     ]
    }
   ],
   "source": [
    "# Train model\n",
    "model.fit(x_train, y_train, batch_size=12, epochs=20, shuffle=True)"
   ],
   "metadata": {
    "collapsed": false,
    "pycharm": {
     "is_executing": true
    }
   }
  },
  {
   "cell_type": "markdown",
   "source": [
    "Créer des fonctions d'ensemble de test"
   ],
   "metadata": {
    "collapsed": false
   }
  },
  {
   "cell_type": "code",
   "execution_count": null,
   "outputs": [],
   "source": [
    "def createTest(path):\n",
    "    # test_path = \"./resource/Test/\"\n",
    "    nub_test = len(glob(path + '/*/*.jpg'))\n",
    "    #先生成空array，然后往里填每张图片的array\n",
    "    x_test = np.zeros((nub_test, 600, 360, 3), dtype=np.uint8)\n",
    "    y_test = np.zeros((nub_test,), dtype=np.uint8)\n",
    "\n",
    "    j = 0\n",
    "    for img_path in tqdm(glob(path + '/*/*.jpg')):\n",
    "        img = Image.open(img_path)\n",
    "        img = img.resize((360, 600))  #图片resize\n",
    "        arr = np.asarray(img)  #图片转array\n",
    "        x_test[j, :, :, :] = arr  #赋值\n",
    "        typeName = img_path.split('/')[-2]\n",
    "        # typeName = \"castanea\"\n",
    "        if typeName == 'amborella':\n",
    "            y_test[j] = 0\n",
    "        elif typeName == 'castanea':\n",
    "            y_test[j] = 1\n",
    "        elif typeName == 'convolvulaceae':\n",
    "            y_test[j] = 2\n",
    "        elif typeName == 'desmodium':\n",
    "            y_test[j] = 3\n",
    "        elif typeName == 'eugenia':\n",
    "            y_test[j] = 4\n",
    "        elif typeName == 'laurus':\n",
    "            y_test[j] = 5\n",
    "        elif typeName == 'litsea':\n",
    "            y_test[j] = 6\n",
    "        elif typeName == 'magnolia':\n",
    "            y_test[j] = 7\n",
    "        elif typeName == 'monimiaceae':\n",
    "            y_test[j] = 8\n",
    "        elif typeName == 'rubus':\n",
    "            y_test[j] = 9\n",
    "        elif typeName == 'ulmus':\n",
    "            y_test[j] = 10\n",
    "        j += 1\n",
    "    return x_test, y_test"
   ],
   "metadata": {
    "collapsed": false
   }
  },
  {
   "cell_type": "markdown",
   "source": [
    "Création d'ensembles de tests"
   ],
   "metadata": {
    "collapsed": false
   }
  },
  {
   "cell_type": "code",
   "execution_count": null,
   "outputs": [],
   "source": [
    "x_test, y_test = createTest(\"./resource/TestMasked/\")"
   ],
   "metadata": {
    "collapsed": false
   }
  },
  {
   "cell_type": "markdown",
   "source": [
    "Évaluer l'exactitude du modèle"
   ],
   "metadata": {
    "collapsed": false
   }
  },
  {
   "cell_type": "code",
   "execution_count": 40,
   "outputs": [
    {
     "name": "stderr",
     "output_type": "stream",
     "text": [
      "2022-12-05 21:39:30.874650: I tensorflow/core/grappler/optimizers/custom_graph_optimizer_registry.cc:113] Plugin optimizer for device_type GPU is enabled.\n"
     ]
    },
    {
     "name": "stdout",
     "output_type": "stream",
     "text": [
      "4/4 [==============================] - 3s 584ms/step - loss: 2.3828 - accuracy: 0.1696\n",
      "Valid loss:2.382754325866699\n",
      "Valid accuracy:0.1696428656578064\n"
     ]
    }
   ],
   "source": [
    "# Evaluate model\n",
    "valid_loss, valid_acc = model.evaluate(x_test, y_test, verbose=1)\n",
    "print(f\"Valid loss:{valid_loss}\")\n",
    "print(f\"Valid accuracy:{valid_acc}\")"
   ],
   "metadata": {
    "collapsed": false
   }
  },
  {
   "cell_type": "markdown",
   "source": [
    "Préservation des modèles"
   ],
   "metadata": {
    "collapsed": false
   }
  },
  {
   "cell_type": "code",
   "execution_count": 41,
   "outputs": [
    {
     "name": "stderr",
     "output_type": "stream",
     "text": [
      "WARNING:absl:Found untraced functions such as _jit_compiled_convolution_op, _jit_compiled_convolution_op while saving (showing 2 of 2). These functions will not be directly callable after loading.\n"
     ]
    },
    {
     "name": "stdout",
     "output_type": "stream",
     "text": [
      "INFO:tensorflow:Assets written to: saved_model/assets\n"
     ]
    },
    {
     "name": "stderr",
     "output_type": "stream",
     "text": [
      "INFO:tensorflow:Assets written to: saved_model/assets\n"
     ]
    }
   ],
   "source": [
    "# 模型保存，注意：仅仅是多了一个save_format的参数而已\n",
    "# 注意：这里的'path_to_saved_model'不再是模型名称，仅仅是一个文件夹，模型会保存在这个文件夹之下\n",
    "model.save('saved_model', save_format='tf')"
   ],
   "metadata": {
    "collapsed": false
   }
  },
  {
   "cell_type": "markdown",
   "source": [
    "Modèles de chargement"
   ],
   "metadata": {
    "collapsed": false
   }
  },
  {
   "cell_type": "code",
   "execution_count": null,
   "outputs": [],
   "source": [
    "# 加载模型，通过指定存放模型的文件夹来加载\n",
    "model = keras.models.load_model('saved_model')"
   ],
   "metadata": {
    "collapsed": false
   }
  },
  {
   "cell_type": "markdown",
   "source": [
    "Modèles d'affichage"
   ],
   "metadata": {
    "collapsed": false
   }
  },
  {
   "cell_type": "code",
   "execution_count": 45,
   "outputs": [],
   "source": [
    "def typePredict(typeName):\n",
    "    if typeName == 'amborella':\n",
    "        flower = 'amborella, Bord: lisse, Phyllotaxie: alterné, Type feuille: simple. Ligneux: oui'\n",
    "    elif typeName == 'castanea':\n",
    "        flower = 'castanea, Bord: denté, Phyllotaxie: alterné, Type feuille: simple. Ligneux: oui'\n",
    "    elif typeName == 'convolvulaceae':\n",
    "        flower = 'convolvulaceae, Bord: lisse, Phyllotaxie: alterné, Type feuille: simple. Ligneux: non'\n",
    "    elif typeName == 'desmodium':\n",
    "        flower = 'desmodium, Bord: lisse, Phyllotaxie: alterné, Type feuille: composée. Ligneux: non'\n",
    "    elif typeName == 'eugenia':\n",
    "        flower = 'eugenia, Bord: lisse, Phyllotaxie: opposé, Type feuille: simple. Ligneux: oui'\n",
    "    elif typeName == 'laurus':\n",
    "        flower = 'laurus, Bord: lisse, Phyllotaxie: opposé, Type feuille: simple. Ligneux: oui'\n",
    "    elif typeName == 'litsea':\n",
    "        flower = 'litsea, Bord: lisse, Phyllotaxie: alterné, Type feuille: simple. Ligneux: oui'\n",
    "    elif typeName == 'magnolia':\n",
    "        flower = 'magnolia, Bord: lisse, Phyllotaxie: alterné, Type feuille: simple. Ligneux: oui'\n",
    "    elif typeName == 'monimiaceae':\n",
    "        flower = 'monimiaceae, Bord: lisse, Phyllotaxie: opposé, Type feuille: simple. Ligneux: oui'\n",
    "    elif typeName == 'rubus':\n",
    "        flower = 'rubus, Bord: denté, Phyllotaxie: alterné, Type feuille: composée. Ligneux: oui'\n",
    "    elif typeName == 'ulmus':\n",
    "        flower = 'ulmus, Bord: denté, Phyllotaxie: alterné, Type feuille: simple. Ligneux: oui'\n",
    "    return flower"
   ],
   "metadata": {
    "collapsed": false
   }
  },
  {
   "cell_type": "markdown",
   "source": [
    "Faire des prédictions de modèle"
   ],
   "metadata": {
    "collapsed": false
   }
  },
  {
   "cell_type": "code",
   "execution_count": 46,
   "outputs": [
    {
     "name": "stdout",
     "output_type": "stream",
     "text": [
      "4/4 [==============================] - 2s 661ms/step\n",
      "Number  0  is:  convolvulaceae, Bord: lisse, Phyllotaxie: alterné, Type feuille: simple. Ligneux: non\n",
      "Number  1  is:  convolvulaceae, Bord: lisse, Phyllotaxie: alterné, Type feuille: simple. Ligneux: non\n",
      "Number  2  is:  convolvulaceae, Bord: lisse, Phyllotaxie: alterné, Type feuille: simple. Ligneux: non\n",
      "Number  3  is:  convolvulaceae, Bord: lisse, Phyllotaxie: alterné, Type feuille: simple. Ligneux: non\n",
      "Number  4  is:  convolvulaceae, Bord: lisse, Phyllotaxie: alterné, Type feuille: simple. Ligneux: non\n",
      "Number  5  is:  convolvulaceae, Bord: lisse, Phyllotaxie: alterné, Type feuille: simple. Ligneux: non\n",
      "Number  6  is:  convolvulaceae, Bord: lisse, Phyllotaxie: alterné, Type feuille: simple. Ligneux: non\n",
      "Number  7  is:  convolvulaceae, Bord: lisse, Phyllotaxie: alterné, Type feuille: simple. Ligneux: non\n",
      "Number  8  is:  convolvulaceae, Bord: lisse, Phyllotaxie: alterné, Type feuille: simple. Ligneux: non\n",
      "Number  9  is:  convolvulaceae, Bord: lisse, Phyllotaxie: alterné, Type feuille: simple. Ligneux: non\n",
      "Number  10  is:  convolvulaceae, Bord: lisse, Phyllotaxie: alterné, Type feuille: simple. Ligneux: non\n",
      "Number  11  is:  convolvulaceae, Bord: lisse, Phyllotaxie: alterné, Type feuille: simple. Ligneux: non\n",
      "Number  12  is:  convolvulaceae, Bord: lisse, Phyllotaxie: alterné, Type feuille: simple. Ligneux: non\n",
      "Number  13  is:  convolvulaceae, Bord: lisse, Phyllotaxie: alterné, Type feuille: simple. Ligneux: non\n",
      "Number  14  is:  convolvulaceae, Bord: lisse, Phyllotaxie: alterné, Type feuille: simple. Ligneux: non\n",
      "Number  15  is:  convolvulaceae, Bord: lisse, Phyllotaxie: alterné, Type feuille: simple. Ligneux: non\n",
      "Number  16  is:  convolvulaceae, Bord: lisse, Phyllotaxie: alterné, Type feuille: simple. Ligneux: non\n",
      "Number  17  is:  convolvulaceae, Bord: lisse, Phyllotaxie: alterné, Type feuille: simple. Ligneux: non\n",
      "Number  18  is:  convolvulaceae, Bord: lisse, Phyllotaxie: alterné, Type feuille: simple. Ligneux: non\n",
      "Number  19  is:  convolvulaceae, Bord: lisse, Phyllotaxie: alterné, Type feuille: simple. Ligneux: non\n",
      "Number  20  is:  convolvulaceae, Bord: lisse, Phyllotaxie: alterné, Type feuille: simple. Ligneux: non\n",
      "Number  21  is:  convolvulaceae, Bord: lisse, Phyllotaxie: alterné, Type feuille: simple. Ligneux: non\n",
      "Number  22  is:  convolvulaceae, Bord: lisse, Phyllotaxie: alterné, Type feuille: simple. Ligneux: non\n",
      "Number  23  is:  convolvulaceae, Bord: lisse, Phyllotaxie: alterné, Type feuille: simple. Ligneux: non\n",
      "Number  24  is:  convolvulaceae, Bord: lisse, Phyllotaxie: alterné, Type feuille: simple. Ligneux: non\n",
      "Number  25  is:  convolvulaceae, Bord: lisse, Phyllotaxie: alterné, Type feuille: simple. Ligneux: non\n",
      "Number  26  is:  convolvulaceae, Bord: lisse, Phyllotaxie: alterné, Type feuille: simple. Ligneux: non\n",
      "Number  27  is:  convolvulaceae, Bord: lisse, Phyllotaxie: alterné, Type feuille: simple. Ligneux: non\n",
      "Number  28  is:  convolvulaceae, Bord: lisse, Phyllotaxie: alterné, Type feuille: simple. Ligneux: non\n",
      "Number  29  is:  convolvulaceae, Bord: lisse, Phyllotaxie: alterné, Type feuille: simple. Ligneux: non\n",
      "Number  30  is:  convolvulaceae, Bord: lisse, Phyllotaxie: alterné, Type feuille: simple. Ligneux: non\n"
     ]
    }
   ],
   "source": [
    "# Make one prediction\n",
    "# x_test,y_test = createTest(\"./resource/TestMasked/\")\n",
    "# print(y_test)\n",
    "class_names = ['amborella', 'castanea', 'convolvulaceae', 'desmodium', 'eugenia', 'laurus', 'litsea', 'magnolia',\n",
    "               'monimiaceae', 'rubus', 'ulmus']\n",
    "# class_names = ['amborella', 'castanea', 'eugenia']\n",
    "y_predicts = model.predict(x_test)\n",
    "\n",
    "for i in range(0, 31):\n",
    "    y_index = np.argmax(y_predicts[i])\n",
    "    y_label = class_names[y_index]\n",
    "    print(\"Number \", i, \" is: \", typePredict(y_label))"
   ],
   "metadata": {
    "collapsed": false
   }
  },
  {
   "cell_type": "code",
   "execution_count": null,
   "outputs": [],
   "source": [],
   "metadata": {
    "collapsed": false
   }
  }
 ],
 "metadata": {
  "kernelspec": {
   "display_name": "Python 3",
   "language": "python",
   "name": "python3"
  },
  "language_info": {
   "codemirror_mode": {
    "name": "ipython",
    "version": 2
   },
   "file_extension": ".py",
   "mimetype": "text/x-python",
   "name": "python",
   "nbconvert_exporter": "python",
   "pygments_lexer": "ipython2",
   "version": "2.7.6"
  }
 },
 "nbformat": 4,
 "nbformat_minor": 0
}
